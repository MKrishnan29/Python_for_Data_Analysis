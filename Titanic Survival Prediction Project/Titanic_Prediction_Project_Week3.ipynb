{
  "nbformat": 4,
  "nbformat_minor": 0,
  "metadata": {
    "colab": {
      "name": "Titanic Prediction Project Week3.ipynb",
      "version": "0.3.2",
      "provenance": [],
      "collapsed_sections": [],
      "include_colab_link": true
    },
    "kernelspec": {
      "name": "python3",
      "display_name": "Python 3"
    }
  },
  "cells": [
    {
      "cell_type": "markdown",
      "metadata": {
        "id": "view-in-github",
        "colab_type": "text"
      },
      "source": [
        "<a href=\"https://colab.research.google.com/github/WWCode-SV/Python_for_Data_Analysis/blob/master/Titanic%20Survival%20Prediction%20Project/Titanic_Prediction_Project_Week3.ipynb\" target=\"_parent\"><img src=\"https://colab.research.google.com/assets/colab-badge.svg\" alt=\"Open In Colab\"/></a>"
      ]
    },
    {
      "cell_type": "markdown",
      "metadata": {
        "id": "IS27xMzPc3m5",
        "colab_type": "text"
      },
      "source": [
        "#Week 3: Descriptive Statistics\n"
      ]
    },
    {
      "cell_type": "code",
      "metadata": {
        "id": "OUPTwXh2xgth",
        "colab_type": "code",
        "outputId": "62eee594-5af2-42af-d529-44b0a4978360",
        "colab": {
          "base_uri": "https://localhost:8080/",
          "height": 34
        }
      },
      "source": [
        "#Mounting Google Drive\n",
        "from google.colab import drive\n",
        "drive.mount('/content/gdrive')"
      ],
      "execution_count": 1,
      "outputs": [
        {
          "output_type": "stream",
          "text": [
            "Drive already mounted at /content/gdrive; to attempt to forcibly remount, call drive.mount(\"/content/gdrive\", force_remount=True).\n"
          ],
          "name": "stdout"
        }
      ]
    },
    {
      "cell_type": "markdown",
      "metadata": {
        "id": "EQrB1EpCNyNW",
        "colab_type": "text"
      },
      "source": [
        "###Reading data (should be replaced with the path and name of your files.)"
      ]
    },
    {
      "cell_type": "code",
      "metadata": {
        "id": "FxSooMmDlwDs",
        "colab_type": "code",
        "colab": {
          "base_uri": "https://localhost:8080/",
          "height": 292
        },
        "outputId": "fdd327b8-2df3-4764-9673-610a96ec3a7f"
      },
      "source": [
        "import pandas as pd #pandas for reading input csv file and other pandas functions\n",
        "\n",
        "# Read the data\n",
        "X_full = pd.read_csv('/content/gdrive/My Drive/Python for Data Analysis Data Science/Titanic Survival Prediction Project/data/train.csv', \n",
        "                     index_col='PassengerId')\n",
        "X_test_full = pd.read_csv('/content/gdrive/My Drive/Python for Data Analysis Data Science/Titanic Survival Prediction Project/data/test.csv', \n",
        "                          index_col='PassengerId')\n",
        "\n",
        "# Obtain target and predictors\n",
        "y = X_full.Survived\n",
        "features = ['Pclass', 'Sex', 'Age', 'SibSp', 'Parch', 'Fare', 'Cabin', 'Embarked']\n",
        "X = X_full[features].copy()\n",
        "X_test = X_test_full[features].copy()\n",
        "\n",
        "print(\"Initial Shape of Data\")\n",
        "print(X.shape)\n",
        "print(\"\\nSnapshot of data\")\n",
        "X.head()"
      ],
      "execution_count": 2,
      "outputs": [
        {
          "output_type": "stream",
          "text": [
            "Initial Shape of Data\n",
            "(891, 8)\n",
            "\n",
            "Snapshot of data\n"
          ],
          "name": "stdout"
        },
        {
          "output_type": "execute_result",
          "data": {
            "text/html": [
              "<div>\n",
              "<style scoped>\n",
              "    .dataframe tbody tr th:only-of-type {\n",
              "        vertical-align: middle;\n",
              "    }\n",
              "\n",
              "    .dataframe tbody tr th {\n",
              "        vertical-align: top;\n",
              "    }\n",
              "\n",
              "    .dataframe thead th {\n",
              "        text-align: right;\n",
              "    }\n",
              "</style>\n",
              "<table border=\"1\" class=\"dataframe\">\n",
              "  <thead>\n",
              "    <tr style=\"text-align: right;\">\n",
              "      <th></th>\n",
              "      <th>Pclass</th>\n",
              "      <th>Sex</th>\n",
              "      <th>Age</th>\n",
              "      <th>SibSp</th>\n",
              "      <th>Parch</th>\n",
              "      <th>Fare</th>\n",
              "      <th>Cabin</th>\n",
              "      <th>Embarked</th>\n",
              "    </tr>\n",
              "    <tr>\n",
              "      <th>PassengerId</th>\n",
              "      <th></th>\n",
              "      <th></th>\n",
              "      <th></th>\n",
              "      <th></th>\n",
              "      <th></th>\n",
              "      <th></th>\n",
              "      <th></th>\n",
              "      <th></th>\n",
              "    </tr>\n",
              "  </thead>\n",
              "  <tbody>\n",
              "    <tr>\n",
              "      <th>1</th>\n",
              "      <td>3</td>\n",
              "      <td>male</td>\n",
              "      <td>22.0</td>\n",
              "      <td>1</td>\n",
              "      <td>0</td>\n",
              "      <td>7.2500</td>\n",
              "      <td>NaN</td>\n",
              "      <td>S</td>\n",
              "    </tr>\n",
              "    <tr>\n",
              "      <th>2</th>\n",
              "      <td>1</td>\n",
              "      <td>female</td>\n",
              "      <td>38.0</td>\n",
              "      <td>1</td>\n",
              "      <td>0</td>\n",
              "      <td>71.2833</td>\n",
              "      <td>C85</td>\n",
              "      <td>C</td>\n",
              "    </tr>\n",
              "    <tr>\n",
              "      <th>3</th>\n",
              "      <td>3</td>\n",
              "      <td>female</td>\n",
              "      <td>26.0</td>\n",
              "      <td>0</td>\n",
              "      <td>0</td>\n",
              "      <td>7.9250</td>\n",
              "      <td>NaN</td>\n",
              "      <td>S</td>\n",
              "    </tr>\n",
              "    <tr>\n",
              "      <th>4</th>\n",
              "      <td>1</td>\n",
              "      <td>female</td>\n",
              "      <td>35.0</td>\n",
              "      <td>1</td>\n",
              "      <td>0</td>\n",
              "      <td>53.1000</td>\n",
              "      <td>C123</td>\n",
              "      <td>S</td>\n",
              "    </tr>\n",
              "    <tr>\n",
              "      <th>5</th>\n",
              "      <td>3</td>\n",
              "      <td>male</td>\n",
              "      <td>35.0</td>\n",
              "      <td>0</td>\n",
              "      <td>0</td>\n",
              "      <td>8.0500</td>\n",
              "      <td>NaN</td>\n",
              "      <td>S</td>\n",
              "    </tr>\n",
              "  </tbody>\n",
              "</table>\n",
              "</div>"
            ],
            "text/plain": [
              "             Pclass     Sex   Age  SibSp  Parch     Fare Cabin Embarked\n",
              "PassengerId                                                            \n",
              "1                 3    male  22.0      1      0   7.2500   NaN        S\n",
              "2                 1  female  38.0      1      0  71.2833   C85        C\n",
              "3                 3  female  26.0      0      0   7.9250   NaN        S\n",
              "4                 1  female  35.0      1      0  53.1000  C123        S\n",
              "5                 3    male  35.0      0      0   8.0500   NaN        S"
            ]
          },
          "metadata": {
            "tags": []
          },
          "execution_count": 2
        }
      ]
    },
    {
      "cell_type": "markdown",
      "metadata": {
        "id": "9fuoIpRE4b12",
        "colab_type": "text"
      },
      "source": [
        "###Dealing with Missing Values\n",
        "  - Most machine learning libraries (including scikit-learn) give an error if you try to build a model using data with missing values.\n",
        "  - So you'll need to choose one of the strategies below."
      ]
    },
    {
      "cell_type": "code",
      "metadata": {
        "id": "YRO4yjDf5r6I",
        "colab_type": "code",
        "outputId": "a895d1e4-a9bf-4413-969f-91f2070995f4",
        "colab": {
          "base_uri": "https://localhost:8080/",
          "height": 151
        }
      },
      "source": [
        "#this code gives if any columns have missing values\n",
        "print(\"All columns with missing values\")\n",
        "print(X.columns[X.isnull().any()])\n",
        "\n",
        "#To see number of missing values in each column\n",
        "print(\"\\nNo. of missing values in each column\")\n",
        "missing_val_count_by_column = (X.isnull().sum())\n",
        "print(missing_val_count_by_column[missing_val_count_by_column > 0])"
      ],
      "execution_count": 3,
      "outputs": [
        {
          "output_type": "stream",
          "text": [
            "All columns with missing values\n",
            "Index(['Age', 'Cabin', 'Embarked'], dtype='object')\n",
            "\n",
            "No. of missing values in each column\n",
            "Age         177\n",
            "Cabin       687\n",
            "Embarked      2\n",
            "dtype: int64\n"
          ],
          "name": "stdout"
        }
      ]
    },
    {
      "cell_type": "markdown",
      "metadata": {
        "id": "G0jKiUk3_aER",
        "colab_type": "text"
      },
      "source": [
        "- So as we can see from above code Age, Cabin and Embarked have null values. Let's explore various statistical methods of dealing with the same."
      ]
    },
    {
      "cell_type": "markdown",
      "metadata": {
        "id": "9xlc371k5AB4",
        "colab_type": "text"
      },
      "source": [
        "####1) A Simple Option: Drop Columns with Missing Values\n",
        "- Flaw with this method is potentially losing out a lot of useful information"
      ]
    },
    {
      "cell_type": "code",
      "metadata": {
        "id": "WVVtfu8FQfZ5",
        "colab_type": "code",
        "colab": {}
      },
      "source": [
        "X_train_missing_dropped = X.dropna()\n",
        "\n",
        "X_train_missing_dropped.columns = X.columns"
      ],
      "execution_count": 0,
      "outputs": []
    },
    {
      "cell_type": "markdown",
      "metadata": {
        "colab_type": "text",
        "id": "Xh3CbTbjF1HJ"
      },
      "source": [
        "####2) A Better Option: Imputation\n",
        "- Replacing missing value with another value\n",
        "- The imputed value won't be exactly right in most cases, but it usually leads to more accurate models than you would get from dropping the column entirely.\n",
        "- Different types of replacements:\n",
        "  - Categorical\n",
        "    - Highest frequency of occurence\n",
        "  - Numeric:\n",
        "    - Mean\n",
        "    - Median\n",
        "    - Mode\n",
        "  - Value estimated by another predictive model\n",
        "- For categorical we will impute with most frequent occurence and for numeric we will impute with mean.\n"
      ]
    },
    {
      "cell_type": "code",
      "metadata": {
        "id": "1dzJabrOedud",
        "colab_type": "code",
        "colab": {}
      },
      "source": [
        "X['Age'].fillna(X['Age'].mean(), inplace=True)\n",
        "X['Cabin'].fillna(X['Cabin'].value_counts().idxmax(), inplace=True)\n",
        "X['Embarked'].fillna(X['Embarked'].value_counts().idxmax(), inplace=True)"
      ],
      "execution_count": 0,
      "outputs": []
    },
    {
      "cell_type": "markdown",
      "metadata": {
        "id": "alO6XyCUhPIh",
        "colab_type": "text"
      },
      "source": [
        "####Let's check if the missing values are removed  now\n"
      ]
    },
    {
      "cell_type": "code",
      "metadata": {
        "id": "eM_6m7NnhY8r",
        "colab_type": "code",
        "colab": {
          "base_uri": "https://localhost:8080/",
          "height": 50
        },
        "outputId": "2ad1a312-5c4a-4f99-f620-b9c4cc13a6d7"
      },
      "source": [
        "print(\"All columns with missing values\")\n",
        "print(X.columns[X.isnull().any()])\n",
        "\n",
        "#X.Age.unique() #To check unique values"
      ],
      "execution_count": 6,
      "outputs": [
        {
          "output_type": "stream",
          "text": [
            "All columns with missing values\n",
            "Index([], dtype='object')\n"
          ],
          "name": "stdout"
        }
      ]
    },
    {
      "cell_type": "markdown",
      "metadata": {
        "id": "gd_LBxmFGJpY",
        "colab_type": "text"
      },
      "source": [
        "####Converting Categorical to Numeric Values\n",
        "- Most Machine Learning models cannot take categorical values as input and so we convert them to numerical"
      ]
    },
    {
      "cell_type": "code",
      "metadata": {
        "id": "34Pzu-l1MGwb",
        "colab_type": "code",
        "colab": {
          "base_uri": "https://localhost:8080/",
          "height": 580
        },
        "outputId": "304edaca-9bbd-4688-9a3a-a9f348f3a138"
      },
      "source": [
        "# Replace Cabin Values with fill na values with 'Unknown' or simply 'U'\n",
        "X['Cabin'] = X['Cabin'].map(lambda x: x[0])\n",
        "\n",
        "# Add label and one-hot encoding for categorical lables\n",
        "def encode(data, labels):\n",
        "    for label in labels:\n",
        "      data = data.join(pd.get_dummies(data[label], prefix = label))\n",
        "      data.drop(label, axis=1, inplace=True)\n",
        "    return data\n",
        "\n",
        "X_converted = encode(X, ['Sex', 'Embarked', 'Cabin'])\n",
        "X_converted.head(1).T"
      ],
      "execution_count": 7,
      "outputs": [
        {
          "output_type": "execute_result",
          "data": {
            "text/html": [
              "<div>\n",
              "<style scoped>\n",
              "    .dataframe tbody tr th:only-of-type {\n",
              "        vertical-align: middle;\n",
              "    }\n",
              "\n",
              "    .dataframe tbody tr th {\n",
              "        vertical-align: top;\n",
              "    }\n",
              "\n",
              "    .dataframe thead th {\n",
              "        text-align: right;\n",
              "    }\n",
              "</style>\n",
              "<table border=\"1\" class=\"dataframe\">\n",
              "  <thead>\n",
              "    <tr style=\"text-align: right;\">\n",
              "      <th>PassengerId</th>\n",
              "      <th>1</th>\n",
              "    </tr>\n",
              "  </thead>\n",
              "  <tbody>\n",
              "    <tr>\n",
              "      <th>Pclass</th>\n",
              "      <td>3.00</td>\n",
              "    </tr>\n",
              "    <tr>\n",
              "      <th>Age</th>\n",
              "      <td>22.00</td>\n",
              "    </tr>\n",
              "    <tr>\n",
              "      <th>SibSp</th>\n",
              "      <td>1.00</td>\n",
              "    </tr>\n",
              "    <tr>\n",
              "      <th>Parch</th>\n",
              "      <td>0.00</td>\n",
              "    </tr>\n",
              "    <tr>\n",
              "      <th>Fare</th>\n",
              "      <td>7.25</td>\n",
              "    </tr>\n",
              "    <tr>\n",
              "      <th>Sex_female</th>\n",
              "      <td>0.00</td>\n",
              "    </tr>\n",
              "    <tr>\n",
              "      <th>Sex_male</th>\n",
              "      <td>1.00</td>\n",
              "    </tr>\n",
              "    <tr>\n",
              "      <th>Embarked_C</th>\n",
              "      <td>0.00</td>\n",
              "    </tr>\n",
              "    <tr>\n",
              "      <th>Embarked_Q</th>\n",
              "      <td>0.00</td>\n",
              "    </tr>\n",
              "    <tr>\n",
              "      <th>Embarked_S</th>\n",
              "      <td>1.00</td>\n",
              "    </tr>\n",
              "    <tr>\n",
              "      <th>Cabin_A</th>\n",
              "      <td>0.00</td>\n",
              "    </tr>\n",
              "    <tr>\n",
              "      <th>Cabin_B</th>\n",
              "      <td>0.00</td>\n",
              "    </tr>\n",
              "    <tr>\n",
              "      <th>Cabin_C</th>\n",
              "      <td>0.00</td>\n",
              "    </tr>\n",
              "    <tr>\n",
              "      <th>Cabin_D</th>\n",
              "      <td>0.00</td>\n",
              "    </tr>\n",
              "    <tr>\n",
              "      <th>Cabin_E</th>\n",
              "      <td>0.00</td>\n",
              "    </tr>\n",
              "    <tr>\n",
              "      <th>Cabin_F</th>\n",
              "      <td>0.00</td>\n",
              "    </tr>\n",
              "    <tr>\n",
              "      <th>Cabin_G</th>\n",
              "      <td>1.00</td>\n",
              "    </tr>\n",
              "    <tr>\n",
              "      <th>Cabin_T</th>\n",
              "      <td>0.00</td>\n",
              "    </tr>\n",
              "  </tbody>\n",
              "</table>\n",
              "</div>"
            ],
            "text/plain": [
              "PassengerId      1\n",
              "Pclass        3.00\n",
              "Age          22.00\n",
              "SibSp         1.00\n",
              "Parch         0.00\n",
              "Fare          7.25\n",
              "Sex_female    0.00\n",
              "Sex_male      1.00\n",
              "Embarked_C    0.00\n",
              "Embarked_Q    0.00\n",
              "Embarked_S    1.00\n",
              "Cabin_A       0.00\n",
              "Cabin_B       0.00\n",
              "Cabin_C       0.00\n",
              "Cabin_D       0.00\n",
              "Cabin_E       0.00\n",
              "Cabin_F       0.00\n",
              "Cabin_G       1.00\n",
              "Cabin_T       0.00"
            ]
          },
          "metadata": {
            "tags": []
          },
          "execution_count": 7
        }
      ]
    },
    {
      "cell_type": "markdown",
      "metadata": {
        "id": "TR3ia2aL-oVt",
        "colab_type": "text"
      },
      "source": [
        "####Train Test Split"
      ]
    },
    {
      "cell_type": "code",
      "metadata": {
        "id": "Dcshp0Wn-mT1",
        "colab_type": "code",
        "colab": {}
      },
      "source": [
        "from sklearn.model_selection import train_test_split #for dividing labeled data into train and validation files\n",
        "# Break off validation set from training data\n",
        "X_train, X_valid, y_train, y_valid = train_test_split(X_converted, y, train_size=0.8, test_size=0.2, random_state=0)"
      ],
      "execution_count": 0,
      "outputs": []
    },
    {
      "cell_type": "markdown",
      "metadata": {
        "id": "XWmXnKQKpYeg",
        "colab_type": "text"
      },
      "source": [
        "####Fitting Logistic Regression Model to See Initial Performance"
      ]
    },
    {
      "cell_type": "code",
      "metadata": {
        "id": "CJfmgmblo-PD",
        "colab_type": "code",
        "colab": {
          "base_uri": "https://localhost:8080/",
          "height": 138
        },
        "outputId": "d7741bab-b98e-4248-813a-78f3a391f2c9"
      },
      "source": [
        "from sklearn.linear_model import LogisticRegression\n",
        "classifier = LogisticRegression().fit(X_train, y_train)\n",
        "y_pred = classifier.predict(X_valid)\n",
        "\n",
        "#Performance Evaluation\n",
        "from sklearn.metrics import accuracy_score\n",
        "print(\"Accuracy is\")\n",
        "print(accuracy_score(y_valid, y_pred))\n",
        "\n",
        "from sklearn.metrics import f1_score\n",
        "print(\"F1 Score is\")\n",
        "f1_score(y_valid, y_pred)"
      ],
      "execution_count": 9,
      "outputs": [
        {
          "output_type": "stream",
          "text": [
            "Accuracy is\n",
            "0.8100558659217877\n",
            "F1 Score is\n"
          ],
          "name": "stdout"
        },
        {
          "output_type": "stream",
          "text": [
            "/usr/local/lib/python3.6/dist-packages/sklearn/linear_model/logistic.py:432: FutureWarning: Default solver will be changed to 'lbfgs' in 0.22. Specify a solver to silence this warning.\n",
            "  FutureWarning)\n"
          ],
          "name": "stderr"
        },
        {
          "output_type": "execute_result",
          "data": {
            "text/plain": [
              "0.75"
            ]
          },
          "metadata": {
            "tags": []
          },
          "execution_count": 9
        }
      ]
    },
    {
      "cell_type": "markdown",
      "metadata": {
        "id": "aFzv0TdL7sIT",
        "colab_type": "text"
      },
      "source": [
        "###Plotting Age Column Distribution"
      ]
    },
    {
      "cell_type": "code",
      "metadata": {
        "id": "MrihbaQP75p-",
        "colab_type": "code",
        "colab": {
          "base_uri": "https://localhost:8080/",
          "height": 286
        },
        "outputId": "d8f7eaec-a492-4b80-91fd-b40b02409ea4"
      },
      "source": [
        "X_train['Age'].hist()"
      ],
      "execution_count": 10,
      "outputs": [
        {
          "output_type": "execute_result",
          "data": {
            "text/plain": [
              "<matplotlib.axes._subplots.AxesSubplot at 0x7fe4c3431320>"
            ]
          },
          "metadata": {
            "tags": []
          },
          "execution_count": 10
        },
        {
          "output_type": "display_data",
          "data": {
            "image/png": "[encoded data removed]",
            "text/plain": [
              "<Figure size 432x288 with 1 Axes>"
            ]
          },
          "metadata": {
            "tags": []
          }
        }
      ]
    },
    {
      "cell_type": "code",
      "metadata": {
        "id": "wXsUnPTj8Dtz",
        "colab_type": "code",
        "colab": {
          "base_uri": "https://localhost:8080/",
          "height": 634
        },
        "outputId": "f495c6c4-5118-4b9f-b0ad-66759d7fdb7d"
      },
      "source": [
        "X_train.hist()"
      ],
      "execution_count": 11,
      "outputs": [
        {
          "output_type": "execute_result",
          "data": {
            "text/plain": [
              "array([[<matplotlib.axes._subplots.AxesSubplot object at 0x7fe4c1c9aa58>,\n",
              "        <matplotlib.axes._subplots.AxesSubplot object at 0x7fe4bf4669e8>,\n",
              "        <matplotlib.axes._subplots.AxesSubplot object at 0x7fe4bf40ff60>,\n",
              "        <matplotlib.axes._subplots.AxesSubplot object at 0x7fe4bf3be518>],\n",
              "       [<matplotlib.axes._subplots.AxesSubplot object at 0x7fe4bf3e5a90>,\n",
              "        <matplotlib.axes._subplots.AxesSubplot object at 0x7fe4bf398048>,\n",
              "        <matplotlib.axes._subplots.AxesSubplot object at 0x7fe4bf33e5c0>,\n",
              "        <matplotlib.axes._subplots.AxesSubplot object at 0x7fe4bf365b70>],\n",
              "       [<matplotlib.axes._subplots.AxesSubplot object at 0x7fe4bf365ba8>,\n",
              "        <matplotlib.axes._subplots.AxesSubplot object at 0x7fe4bf2c1668>,\n",
              "        <matplotlib.axes._subplots.AxesSubplot object at 0x7fe4bf2e8be0>,\n",
              "        <matplotlib.axes._subplots.AxesSubplot object at 0x7fe4bf299198>],\n",
              "       [<matplotlib.axes._subplots.AxesSubplot object at 0x7fe4bf241710>,\n",
              "        <matplotlib.axes._subplots.AxesSubplot object at 0x7fe4bf267c88>,\n",
              "        <matplotlib.axes._subplots.AxesSubplot object at 0x7fe4bf21b240>,\n",
              "        <matplotlib.axes._subplots.AxesSubplot object at 0x7fe4bf1c07b8>],\n",
              "       [<matplotlib.axes._subplots.AxesSubplot object at 0x7fe4bf1e8d30>,\n",
              "        <matplotlib.axes._subplots.AxesSubplot object at 0x7fe4bf19a2e8>,\n",
              "        <matplotlib.axes._subplots.AxesSubplot object at 0x7fe4bf142860>,\n",
              "        <matplotlib.axes._subplots.AxesSubplot object at 0x7fe4bf16add8>]],\n",
              "      dtype=object)"
            ]
          },
          "metadata": {
            "tags": []
          },
          "execution_count": 11
        },
        {
          "output_type": "display_data",
          "data": {
            "image/png": "[encoded data removed]",
            "text/plain": [
              "<Figure size 432x288 with 20 Axes>"
            ]
          },
          "metadata": {
            "tags": []
          }
        }
      ]
    },
    {
      "cell_type": "markdown",
      "metadata": {
        "id": "aIPH-qAj9np0",
        "colab_type": "text"
      },
      "source": [
        "###To see descriptive statistics of the data"
      ]
    },
    {
      "cell_type": "code",
      "metadata": {
        "id": "1V_mIS3u9oUs",
        "colab_type": "code",
        "colab": {
          "base_uri": "https://localhost:8080/",
          "height": 284
        },
        "outputId": "ecc5cf16-4dd6-4efc-c642-842b1c0339d8"
      },
      "source": [
        "X.describe()"
      ],
      "execution_count": 12,
      "outputs": [
        {
          "output_type": "execute_result",
          "data": {
            "text/html": [
              "<div>\n",
              "<style scoped>\n",
              "    .dataframe tbody tr th:only-of-type {\n",
              "        vertical-align: middle;\n",
              "    }\n",
              "\n",
              "    .dataframe tbody tr th {\n",
              "        vertical-align: top;\n",
              "    }\n",
              "\n",
              "    .dataframe thead th {\n",
              "        text-align: right;\n",
              "    }\n",
              "</style>\n",
              "<table border=\"1\" class=\"dataframe\">\n",
              "  <thead>\n",
              "    <tr style=\"text-align: right;\">\n",
              "      <th></th>\n",
              "      <th>Pclass</th>\n",
              "      <th>Age</th>\n",
              "      <th>SibSp</th>\n",
              "      <th>Parch</th>\n",
              "      <th>Fare</th>\n",
              "    </tr>\n",
              "  </thead>\n",
              "  <tbody>\n",
              "    <tr>\n",
              "      <th>count</th>\n",
              "      <td>891.000000</td>\n",
              "      <td>891.000000</td>\n",
              "      <td>891.000000</td>\n",
              "      <td>891.000000</td>\n",
              "      <td>891.000000</td>\n",
              "    </tr>\n",
              "    <tr>\n",
              "      <th>mean</th>\n",
              "      <td>2.308642</td>\n",
              "      <td>29.699118</td>\n",
              "      <td>0.523008</td>\n",
              "      <td>0.381594</td>\n",
              "      <td>32.204208</td>\n",
              "    </tr>\n",
              "    <tr>\n",
              "      <th>std</th>\n",
              "      <td>0.836071</td>\n",
              "      <td>13.002015</td>\n",
              "      <td>1.102743</td>\n",
              "      <td>0.806057</td>\n",
              "      <td>49.693429</td>\n",
              "    </tr>\n",
              "    <tr>\n",
              "      <th>min</th>\n",
              "      <td>1.000000</td>\n",
              "      <td>0.420000</td>\n",
              "      <td>0.000000</td>\n",
              "      <td>0.000000</td>\n",
              "      <td>0.000000</td>\n",
              "    </tr>\n",
              "    <tr>\n",
              "      <th>25%</th>\n",
              "      <td>2.000000</td>\n",
              "      <td>22.000000</td>\n",
              "      <td>0.000000</td>\n",
              "      <td>0.000000</td>\n",
              "      <td>7.910400</td>\n",
              "    </tr>\n",
              "    <tr>\n",
              "      <th>50%</th>\n",
              "      <td>3.000000</td>\n",
              "      <td>29.699118</td>\n",
              "      <td>0.000000</td>\n",
              "      <td>0.000000</td>\n",
              "      <td>14.454200</td>\n",
              "    </tr>\n",
              "    <tr>\n",
              "      <th>75%</th>\n",
              "      <td>3.000000</td>\n",
              "      <td>35.000000</td>\n",
              "      <td>1.000000</td>\n",
              "      <td>0.000000</td>\n",
              "      <td>31.000000</td>\n",
              "    </tr>\n",
              "    <tr>\n",
              "      <th>max</th>\n",
              "      <td>3.000000</td>\n",
              "      <td>80.000000</td>\n",
              "      <td>8.000000</td>\n",
              "      <td>6.000000</td>\n",
              "      <td>512.329200</td>\n",
              "    </tr>\n",
              "  </tbody>\n",
              "</table>\n",
              "</div>"
            ],
            "text/plain": [
              "           Pclass         Age       SibSp       Parch        Fare\n",
              "count  891.000000  891.000000  891.000000  891.000000  891.000000\n",
              "mean     2.308642   29.699118    0.523008    0.381594   32.204208\n",
              "std      0.836071   13.002015    1.102743    0.806057   49.693429\n",
              "min      1.000000    0.420000    0.000000    0.000000    0.000000\n",
              "25%      2.000000   22.000000    0.000000    0.000000    7.910400\n",
              "50%      3.000000   29.699118    0.000000    0.000000   14.454200\n",
              "75%      3.000000   35.000000    1.000000    0.000000   31.000000\n",
              "max      3.000000   80.000000    8.000000    6.000000  512.329200"
            ]
          },
          "metadata": {
            "tags": []
          },
          "execution_count": 12
        }
      ]
    },
    {
      "cell_type": "markdown",
      "metadata": {
        "id": "JXquLN7hr8FL",
        "colab_type": "text"
      },
      "source": [
        "###Different Types of Distributions\n",
        "- beta\n",
        "- exponential\n",
        "- normal_p\n",
        "- normal_l\n",
        "- bimodal"
      ]
    },
    {
      "cell_type": "markdown",
      "metadata": {
        "id": "ODoOyYpJ6KKz",
        "colab_type": "text"
      },
      "source": [
        "###Many machine learning algorithms work better when features are on a relatively similar scale and close to normally distributed.\n",
        "- Examples of such algorithm families include:\n",
        "  - linear and logistic regression\n",
        "  - nearest neighbors\n",
        "  - neural networks\n",
        "  - support vector machines with radial bias kernel functions\n",
        "  - principal components analysis\n",
        "  - linear discriminant analysis\n",
        "- Few key terms for dealing with variance in data are:\n",
        "  - Scaling\n",
        "  - Standardization\n",
        "  - Normalization"
      ]
    },
    {
      "cell_type": "markdown",
      "metadata": {
        "id": "1yuPklv99BlV",
        "colab_type": "text"
      },
      "source": [
        "###Scaling using Scikit Learn"
      ]
    },
    {
      "cell_type": "code",
      "metadata": {
        "id": "1J0_Mcu66Ic1",
        "colab_type": "code",
        "colab": {}
      },
      "source": [
        "from sklearn.preprocessing import StandardScaler\n",
        "scaler = StandardScaler()\n",
        "X_train = pd.DataFrame(scaler.fit_transform(X_train),columns = X_train.columns)\n",
        "#X_train = scaler.fit_transform(X_train)\n",
        "X_valid = pd.DataFrame(scaler.fit_transform(X_valid),columns = X_valid.columns)"
      ],
      "execution_count": 0,
      "outputs": []
    },
    {
      "cell_type": "markdown",
      "metadata": {
        "id": "LXUM7EUP2rYG",
        "colab_type": "text"
      },
      "source": [
        "###Note about Scaling:\n",
        "- StandardScaler is very effective if you need a relatively normal distribution.\n",
        "- There are other scaling algorithms provided by Scikit which deal with outliers and other issues.\n",
        "- Eg: RobustScaler is very effective for outliers.\n",
        "- Strongly encourage to try out as many as possible."
      ]
    },
    {
      "cell_type": "markdown",
      "metadata": {
        "id": "5sI25FPwucaS",
        "colab_type": "text"
      },
      "source": [
        "###Fitting Logistic Regression to see improvement"
      ]
    },
    {
      "cell_type": "code",
      "metadata": {
        "id": "DlfvG8ZgubjV",
        "colab_type": "code",
        "colab": {
          "base_uri": "https://localhost:8080/",
          "height": 138
        },
        "outputId": "abc9aad1-a6f5-46ce-8a07-dd195a4a7232"
      },
      "source": [
        "from sklearn.linear_model import LogisticRegression\n",
        "classifier = LogisticRegression().fit(X_train, y_train)\n",
        "y_pred = classifier.predict(X_valid)\n",
        "\n",
        "#Performance Evaluation\n",
        "from sklearn.metrics import accuracy_score\n",
        "print(\"Accuracy is\")\n",
        "print(accuracy_score(y_valid, y_pred))\n",
        "\n",
        "from sklearn.metrics import f1_score\n",
        "print(\"F1 Score is\")\n",
        "f1_score(y_valid, y_pred)"
      ],
      "execution_count": 14,
      "outputs": [
        {
          "output_type": "stream",
          "text": [
            "Accuracy is\n",
            "0.8156424581005587\n",
            "F1 Score is\n"
          ],
          "name": "stdout"
        },
        {
          "output_type": "stream",
          "text": [
            "/usr/local/lib/python3.6/dist-packages/sklearn/linear_model/logistic.py:432: FutureWarning: Default solver will be changed to 'lbfgs' in 0.22. Specify a solver to silence this warning.\n",
            "  FutureWarning)\n"
          ],
          "name": "stderr"
        },
        {
          "output_type": "execute_result",
          "data": {
            "text/plain": [
              "0.7480916030534351"
            ]
          },
          "metadata": {
            "tags": []
          },
          "execution_count": 14
        }
      ]
    },
    {
      "cell_type": "markdown",
      "metadata": {
        "id": "QNpGKk-h4Pxy",
        "colab_type": "text"
      },
      "source": [
        "###Plotting Age Column Distribution\n"
      ]
    },
    {
      "cell_type": "code",
      "metadata": {
        "id": "fzaEuKPy4O2j",
        "colab_type": "code",
        "colab": {
          "base_uri": "https://localhost:8080/",
          "height": 286
        },
        "outputId": "d1c81e87-ac3c-4ca3-8025-b2d380f6865d"
      },
      "source": [
        "X_train['Age'].hist()"
      ],
      "execution_count": 15,
      "outputs": [
        {
          "output_type": "execute_result",
          "data": {
            "text/plain": [
              "<matplotlib.axes._subplots.AxesSubplot at 0x7fe4bf01ff28>"
            ]
          },
          "metadata": {
            "tags": []
          },
          "execution_count": 15
        },
        {
          "output_type": "display_data",
          "data": {
            "image/png": "[encoded data removed]",
            "text/plain": [
              "<Figure size 432x288 with 1 Axes>"
            ]
          },
          "metadata": {
            "tags": []
          }
        }
      ]
    },
    {
      "cell_type": "code",
      "metadata": {
        "id": "sy5BnYbf8IWQ",
        "colab_type": "code",
        "colab": {
          "base_uri": "https://localhost:8080/",
          "height": 634
        },
        "outputId": "e6d2c486-4965-4574-9b7a-54aa6db9b221"
      },
      "source": [
        "X_train.hist()"
      ],
      "execution_count": 16,
      "outputs": [
        {
          "output_type": "execute_result",
          "data": {
            "text/plain": [
              "array([[<matplotlib.axes._subplots.AxesSubplot object at 0x7fe4bedd6390>,\n",
              "        <matplotlib.axes._subplots.AxesSubplot object at 0x7fe4bed407b8>,\n",
              "        <matplotlib.axes._subplots.AxesSubplot object at 0x7fe4bed67d30>,\n",
              "        <matplotlib.axes._subplots.AxesSubplot object at 0x7fe4bed1a2e8>],\n",
              "       [<matplotlib.axes._subplots.AxesSubplot object at 0x7fe4becc0860>,\n",
              "        <matplotlib.axes._subplots.AxesSubplot object at 0x7fe4beceadd8>,\n",
              "        <matplotlib.axes._subplots.AxesSubplot object at 0x7fe4bec99390>,\n",
              "        <matplotlib.axes._subplots.AxesSubplot object at 0x7fe4bec42940>],\n",
              "       [<matplotlib.axes._subplots.AxesSubplot object at 0x7fe4bec42978>,\n",
              "        <matplotlib.axes._subplots.AxesSubplot object at 0x7fe4bec19438>,\n",
              "        <matplotlib.axes._subplots.AxesSubplot object at 0x7fe4bebc39b0>,\n",
              "        <matplotlib.axes._subplots.AxesSubplot object at 0x7fe4bebebf28>],\n",
              "       [<matplotlib.axes._subplots.AxesSubplot object at 0x7fe4beb9b4e0>,\n",
              "        <matplotlib.axes._subplots.AxesSubplot object at 0x7fe4beb43a58>,\n",
              "        <matplotlib.axes._subplots.AxesSubplot object at 0x7fe4beb6cfd0>,\n",
              "        <matplotlib.axes._subplots.AxesSubplot object at 0x7fe4beb1b588>],\n",
              "       [<matplotlib.axes._subplots.AxesSubplot object at 0x7fe4beac2b00>,\n",
              "        <matplotlib.axes._subplots.AxesSubplot object at 0x7fe4beaf70b8>,\n",
              "        <matplotlib.axes._subplots.AxesSubplot object at 0x7fe4bea9e630>,\n",
              "        <matplotlib.axes._subplots.AxesSubplot object at 0x7fe4bea44ba8>]],\n",
              "      dtype=object)"
            ]
          },
          "metadata": {
            "tags": []
          },
          "execution_count": 16
        },
        {
          "output_type": "display_data",
          "data": {
            "image/png": "[encoded data removed]",
            "text/plain": [
              "<Figure size 432x288 with 20 Axes>"
            ]
          },
          "metadata": {
            "tags": []
          }
        }
      ]
    },
    {
      "cell_type": "markdown",
      "metadata": {
        "id": "dwWYsbso98M7",
        "colab_type": "text"
      },
      "source": [
        "###Titanic Kaggle Challenge Inital Submission\n",
        "- Link - https://www.kaggle.com/c/titanic\n",
        "- You have written your results into output.csv\n",
        "- This file is already in the format as required by the competetion\n",
        "- Upload the file to the competition to see your ranking"
      ]
    }
  ]
}